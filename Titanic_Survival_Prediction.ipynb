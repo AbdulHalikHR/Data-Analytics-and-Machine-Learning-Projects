{
  "nbformat": 4,
  "nbformat_minor": 0,
  "metadata": {
    "colab": {
      "provenance": []
    },
    "kernelspec": {
      "name": "python3",
      "display_name": "Python 3"
    },
    "language_info": {
      "name": "python"
    }
  },
  "cells": [
    {
      "cell_type": "markdown",
      "source": [
        "Machine Learning Project - 6: **Titanic Survival Prediction using Logistic Regression**"
      ],
      "metadata": {
        "id": "WngQsPW47VUU"
      }
    },
    {
      "cell_type": "markdown",
      "source": [
        "**Load Data into Collab**"
      ],
      "metadata": {
        "id": "WuXsPxSL7slv"
      }
    },
    {
      "cell_type": "code",
      "execution_count": 1,
      "metadata": {
        "colab": {
          "base_uri": "https://localhost:8080/"
        },
        "id": "C8RHDdd334f7",
        "outputId": "b52cf2dc-47b4-460d-ffaf-039fb12f363f"
      },
      "outputs": [
        {
          "output_type": "stream",
          "name": "stdout",
          "text": [
            "   PassengerId  Pclass  Name     Sex  Age  SibSp  Parch  Ticket   Fare Cabin  \\\n",
            "0            1       3  John    male   22      1      0     A/5   7.25   NaN   \n",
            "1            2       1  Anna  female   38      1      0  PC 175  71.28   C85   \n",
            "\n",
            "  Embarked  Survived  \n",
            "0        S         0  \n",
            "1        C         1  \n"
          ]
        }
      ],
      "source": [
        "import pandas as pd\n",
        "\n",
        "df = pd.read_csv(\"titanic.csv\")\n",
        "\n",
        "print(df.head())"
      ]
    },
    {
      "cell_type": "markdown",
      "source": [
        "**Handling Missing Values:**"
      ],
      "metadata": {
        "id": "38P9gCgp8d4h"
      }
    },
    {
      "cell_type": "code",
      "source": [
        "# Check for missing values\n",
        "print(df.isnull().sum())\n",
        "\n",
        "# Fill missing Age values with the median\n",
        "df[\"Age\"].fillna(df[\"Age\"].median(), inplace = True)\n",
        "\n",
        "# Drop Cabin column (too many missing values)\n",
        "df.drop(columns = [\"Cabin\"], inplace = True)\n",
        "\n",
        "# Filling missing Embedded values with most common value\n",
        "df[\"Embarked\"].fillna(df[\"Embarked\"].mode()[0], inplace = True)\n"
      ],
      "metadata": {
        "colab": {
          "base_uri": "https://localhost:8080/"
        },
        "id": "dmKxufvq8pqU",
        "outputId": "cdecea00-cd9b-4b41-a4d4-b60836c22502"
      },
      "execution_count": 2,
      "outputs": [
        {
          "output_type": "stream",
          "name": "stdout",
          "text": [
            "PassengerId    0\n",
            "Pclass         0\n",
            "Name           0\n",
            "Sex            0\n",
            "Age            0\n",
            "SibSp          0\n",
            "Parch          0\n",
            "Ticket         0\n",
            "Fare           0\n",
            "Cabin          1\n",
            "Embarked       0\n",
            "Survived       0\n",
            "dtype: int64\n"
          ]
        },
        {
          "output_type": "stream",
          "name": "stderr",
          "text": [
            "<ipython-input-2-49b4b9c68904>:5: FutureWarning: A value is trying to be set on a copy of a DataFrame or Series through chained assignment using an inplace method.\n",
            "The behavior will change in pandas 3.0. This inplace method will never work because the intermediate object on which we are setting values always behaves as a copy.\n",
            "\n",
            "For example, when doing 'df[col].method(value, inplace=True)', try using 'df.method({col: value}, inplace=True)' or df[col] = df[col].method(value) instead, to perform the operation inplace on the original object.\n",
            "\n",
            "\n",
            "  df[\"Age\"].fillna(df[\"Age\"].median(), inplace = True)\n",
            "<ipython-input-2-49b4b9c68904>:11: FutureWarning: A value is trying to be set on a copy of a DataFrame or Series through chained assignment using an inplace method.\n",
            "The behavior will change in pandas 3.0. This inplace method will never work because the intermediate object on which we are setting values always behaves as a copy.\n",
            "\n",
            "For example, when doing 'df[col].method(value, inplace=True)', try using 'df.method({col: value}, inplace=True)' or df[col] = df[col].method(value) instead, to perform the operation inplace on the original object.\n",
            "\n",
            "\n",
            "  df[\"Embarked\"].fillna(df[\"Embarked\"].mode()[0], inplace = True)\n"
          ]
        }
      ]
    },
    {
      "cell_type": "markdown",
      "source": [
        "**Converted Categorical Data into Numbers**"
      ],
      "metadata": {
        "id": "Z2u0-PXn-WNJ"
      }
    },
    {
      "cell_type": "code",
      "source": [
        "\"\"\"from sklearn.preprocessing import LabelEncoder\n",
        "\n",
        "# Convert 'Sex' column to numbers (Male=1, Female=0)\n",
        "df[\"Sex\"] = LabelEncoder().fit_transform(df[\"Sex\"])\n",
        "\n",
        "# Convert 'Embarked' column using One-Hot Encoding\n",
        "df = pd.get_dummies(df, columns=[\"Embarked\"], drop_first=True)\n",
        "\n",
        "print(df.head())  # Check transformed data\n",
        "\"\"\""
      ],
      "metadata": {
        "id": "jgQo9jm_H0EL"
      },
      "execution_count": null,
      "outputs": []
    },
    {
      "cell_type": "code",
      "source": [
        "from sklearn.preprocessing import LabelEncoder\n",
        "\n",
        "# Convert 'Sex' column into numbers (Male=1, Female=0)\n",
        "df[\"Sex\"] = LabelEncoder().fit_transform(df[\"Sex\"])\n",
        "\n",
        "# Check if 'Embarked' column still exists before applying get_dummies\n",
        "if 'Embarked' in df.columns:\n",
        "    # Convert 'Embarked' column using One-Hot Encoding\n",
        "    df = pd.get_dummies(df, columns=[\"Embarked\"], drop_first=True)\n",
        "else:\n",
        "    print(\"Embarked column is not found. It might have been processed already.\")\n",
        "\n",
        "\n",
        "print(df.head())"
      ],
      "metadata": {
        "colab": {
          "base_uri": "https://localhost:8080/"
        },
        "id": "EgCmN5kv-fmA",
        "outputId": "e7d39c00-a1ab-4b4e-898a-3ec78ab70e71"
      },
      "execution_count": 12,
      "outputs": [
        {
          "output_type": "stream",
          "name": "stdout",
          "text": [
            "Embarked column is not found. It might have been processed already.\n",
            "   PassengerId  Pclass  Name  Sex  Age  SibSp  Parch  Ticket   Fare  Survived  \\\n",
            "0            1       3  John    1   22      1      0     A/5   7.25         0   \n",
            "1            2       1  Anna    0   38      1      0  PC 175  71.28         1   \n",
            "\n",
            "   Embarked_1  \n",
            "0        True  \n",
            "1       False  \n"
          ]
        }
      ]
    },
    {
      "cell_type": "markdown",
      "source": [
        "**Define Features(X) & Target(Y):**"
      ],
      "metadata": {
        "id": "K3_MfG6HGgD7"
      }
    },
    {
      "cell_type": "code",
      "source": [
        "x = df.drop(columns = [\"PassengerId\", \"Name\", \"Ticket\", \"Survived\"])  # Features\n",
        "y = df[\"Survived\"]  # Target variable\n",
        "\n",
        "print(x.head())\n",
        "print(y.head())\n"
      ],
      "metadata": {
        "id": "r7sM4N_uEliU"
      },
      "execution_count": null,
      "outputs": []
    },
    {
      "cell_type": "markdown",
      "source": [
        "**Split Data for Training & Testing:**"
      ],
      "metadata": {
        "id": "i-LTTtaFIMOb"
      }
    },
    {
      "cell_type": "code",
      "source": [
        "from sklearn.model_selection import train_test_split\n",
        "\n",
        "# split 80% Training & 20% testing\n",
        "x_train, x_test, y_train, y_test = train_test_split(x, y, test_size = 0.2, random_state = 42)\n",
        "\n",
        "print(\"Training Data:\", x_train.shape, \"Testing Data:\", x_test.shape)"
      ],
      "metadata": {
        "colab": {
          "base_uri": "https://localhost:8080/"
        },
        "id": "W343U3XEIUmE",
        "outputId": "7a9cc75d-9c2a-4eef-a7cb-d7b6b642bc94"
      },
      "execution_count": 14,
      "outputs": [
        {
          "output_type": "stream",
          "name": "stdout",
          "text": [
            "Training Data: (1, 7) Testing Data: (1, 7)\n"
          ]
        }
      ]
    },
    {
      "cell_type": "markdown",
      "source": [
        "**Train the Logic Regression Model:**"
      ],
      "metadata": {
        "id": "3ofSKVv8JC49"
      }
    },
    {
      "cell_type": "code",
      "source": [
        "from sklearn.linear_model import LogisticRegression\n",
        "\n",
        "# create model\n",
        "model = LogisticRegression(max_iter=1000)\n",
        "model.fit(x_train, y_train)\n",
        "\n",
        "print(\"Model Trained Successfully\")"
      ],
      "metadata": {
        "id": "C4-bkWKFJJXB"
      },
      "execution_count": null,
      "outputs": []
    },
    {
      "cell_type": "markdown",
      "source": [
        "**Make Prediction:**"
      ],
      "metadata": {
        "id": "V1Z1jIl3Ke3s"
      }
    },
    {
      "cell_type": "code",
      "source": [
        "y_pred = model.predict(x_test)\n",
        "\n",
        "# compare actual vs predict\n",
        "results = pd.DataFrame({\"Actual\": y_test, \"Predicted\": y_pred})\n",
        "print(results.head())\n"
      ],
      "metadata": {
        "id": "72vig0_hKp8k"
      },
      "execution_count": null,
      "outputs": []
    },
    {
      "cell_type": "markdown",
      "source": [
        "**Evaluate Model Performance:**"
      ],
      "metadata": {
        "id": "4QyKyls3LFKr"
      }
    },
    {
      "cell_type": "code",
      "source": [
        "from sklearn.metrics import accuracy_score, confusion_matrix\n",
        "\n",
        "accuracy = accuracy_score(y_test, y_pred)\n",
        "conf_matrix = confusion_matrix(y_test, y_pred)\n",
        "\n",
        "print(\"Model Accuracy: \", accuracy*100)\n",
        "print(\"Confusion Matrix:\", cm)\n",
        "\n"
      ],
      "metadata": {
        "id": "nNiV038ZLJlU"
      },
      "execution_count": null,
      "outputs": []
    },
    {
      "cell_type": "markdown",
      "source": [
        "**Predict if a New Passenger will Survive or Not**"
      ],
      "metadata": {
        "id": "eq3Z2BRML5Go"
      }
    },
    {
      "cell_type": "code",
      "source": [
        "new_passenger = pd.DataFrame([[1,1,30,1,0,50,1,0]])\n",
        "\n",
        "# Predict Survival\n",
        "prediction = model.predict(new_passenger)\n",
        "\n",
        "if prediction[0] == 1:\n",
        "    print(\"Passenger is likely to SURVIVE\")\n",
        "else:\n",
        "    print(\"Passenger is likely to DIE\")"
      ],
      "metadata": {
        "id": "5CkdY-oiMBGk"
      },
      "execution_count": null,
      "outputs": []
    }
  ]
}