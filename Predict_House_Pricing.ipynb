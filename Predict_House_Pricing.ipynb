{
  "nbformat": 4,
  "nbformat_minor": 0,
  "metadata": {
    "colab": {
      "provenance": []
    },
    "kernelspec": {
      "name": "python3",
      "display_name": "Python 3"
    },
    "language_info": {
      "name": "python"
    }
  },
  "cells": [
    {
      "cell_type": "markdown",
      "source": [
        "Machine Learning Project - 3: **Predict House Pricing**"
      ],
      "metadata": {
        "id": "_4Ja3H9dvv0u"
      }
    },
    {
      "cell_type": "markdown",
      "source": [
        "**Load Data to Collab**"
      ],
      "metadata": {
        "id": "k1W8jmJYOPiW"
      }
    },
    {
      "cell_type": "code",
      "execution_count": null,
      "metadata": {
        "colab": {
          "base_uri": "https://localhost:8080/"
        },
        "id": "5A5G5FwgvGk0",
        "outputId": "bcee7cc3-4651-4f52-d78b-ac8bb21e4327"
      },
      "outputs": [
        {
          "output_type": "stream",
          "name": "stdout",
          "text": [
            "   Area(sqft)  Bedrooms  Age (years)  Price (INR in Lakhs)  Unnamed: 4\n",
            "0        1000         2            5                    50         NaN\n",
            "1        1200         3           10                    60         NaN\n",
            "2         850         2            2                    40         NaN\n",
            "3        1500         3            8                    80         NaN\n",
            "4        1750         4           15                    90         NaN\n"
          ]
        }
      ],
      "source": [
        "import pandas as pd\n",
        "\n",
        "# Load dataset\n",
        "df = pd.read_csv('house_prices.csv')\n",
        "\n",
        "# Display first 5 rows\n",
        "print(df.head())"
      ]
    },
    {
      "cell_type": "markdown",
      "source": [
        "**Define Features and Target**"
      ],
      "metadata": {
        "id": "lNi7K-99Q-2Q"
      }
    },
    {
      "cell_type": "markdown",
      "source": [
        "**Features**: Input for ML models - Area, Bedrooms, Age\n",
        "**Target:** What we want to predict - Price"
      ],
      "metadata": {
        "id": "pzTocYA1RNLI"
      }
    },
    {
      "cell_type": "code",
      "source": [
        "x = df[['Area(sqft)', 'Bedrooms', 'Age (years)',]]  # Features\n",
        "y = df['Price (INR in Lakhs)']                                     # Targets"
      ],
      "metadata": {
        "id": "f4-vrPhKQ9sp"
      },
      "execution_count": null,
      "outputs": []
    },
    {
      "cell_type": "markdown",
      "source": [
        "**Split Data for Testing & Training:**"
      ],
      "metadata": {
        "id": "hxlfo_wGUOJF"
      }
    },
    {
      "cell_type": "code",
      "source": [
        "from sklearn.model_selection import train_test_split\n",
        "\n",
        "x_train, x_test, y_train, y_test = train_test_split(x, y, test_size=0.2, random_state=42)\n",
        "print(\"Training Data: \", x_train.shape, \"Testing Data: \", x_test.shape)\n"
      ],
      "metadata": {
        "colab": {
          "base_uri": "https://localhost:8080/"
        },
        "id": "cneBVY5LUUHJ",
        "outputId": "946fcc24-74cc-40f4-89b8-d54deb19b95b"
      },
      "execution_count": null,
      "outputs": [
        {
          "output_type": "stream",
          "name": "stdout",
          "text": [
            "Training Data:  (4, 3) Testing Data:  (1, 3)\n"
          ]
        }
      ]
    },
    {
      "cell_type": "markdown",
      "source": [
        "**Train Machine Learning Model:**"
      ],
      "metadata": {
        "id": "a86deKLlW5pM"
      }
    },
    {
      "cell_type": "code",
      "source": [
        "from sklearn.linear_model import LinearRegression\n",
        "\n",
        "# Create Model\n",
        "model = LinearRegression()\n",
        "\n",
        "# Train Model\n",
        "model.fit(x_train, y_train)\n",
        "\n",
        "print(\"Model Training Completed!\")"
      ],
      "metadata": {
        "colab": {
          "base_uri": "https://localhost:8080/"
        },
        "id": "bYAhz3pwWxnH",
        "outputId": "22070bf2-77b5-4e2b-f6fe-e1d4c727d233"
      },
      "execution_count": null,
      "outputs": [
        {
          "output_type": "stream",
          "name": "stdout",
          "text": [
            "Model Training Completed!\n"
          ]
        }
      ]
    },
    {
      "cell_type": "markdown",
      "source": [
        "**Make Prediction**"
      ],
      "metadata": {
        "id": "rOygiGHiWDc1"
      }
    },
    {
      "cell_type": "code",
      "source": [
        "y_pred = model.predict(x_test)\n",
        "\n",
        "# Compare Actual Vs Predicted Prices\n",
        "results =  pd.DataFrame({'Actual': y_test, 'Predicted': y_pred})\n",
        "print(results)"
      ],
      "metadata": {
        "colab": {
          "base_uri": "https://localhost:8080/"
        },
        "id": "HhhMs9gUWJQG",
        "outputId": "ffb3b289-2f63-4cc8-a62e-4088153676e8"
      },
      "execution_count": null,
      "outputs": [
        {
          "output_type": "stream",
          "name": "stdout",
          "text": [
            "   Actual  Predicted\n",
            "1      60  57.037037\n"
          ]
        }
      ]
    },
    {
      "cell_type": "markdown",
      "source": [
        "**Evaluate Model Performance**"
      ],
      "metadata": {
        "id": "_X6TPvtvXcfZ"
      }
    },
    {
      "cell_type": "code",
      "source": [],
      "metadata": {
        "id": "Om4ZQFFhZbhM"
      },
      "execution_count": null,
      "outputs": []
    },
    {
      "cell_type": "code",
      "source": [
        "from sklearn.metrics import mean_absolute_error, mean_squared_error\n",
        "\n",
        "mae = mean_absolute_error(y_test, y_pred)\n",
        "mse = mean_squared_error(y_test, y_pred)\n",
        "\n",
        "print(\"Mean Absolute Error is:\", mae)\n",
        "print(\"Mean Squared Error is:\", mse)"
      ],
      "metadata": {
        "colab": {
          "base_uri": "https://localhost:8080/"
        },
        "id": "sa7Vm31dXc8Z",
        "outputId": "b414c73d-bec4-49c7-f65f-465c21badcef"
      },
      "execution_count": null,
      "outputs": [
        {
          "output_type": "stream",
          "name": "stdout",
          "text": [
            "Mean Absolute Error is: 2.962962962962962\n",
            "Mean Squared Error is: 8.779149519890254\n"
          ]
        }
      ]
    }
  ]
}