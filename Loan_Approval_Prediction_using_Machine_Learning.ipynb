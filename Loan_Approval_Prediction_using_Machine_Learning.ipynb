{
  "nbformat": 4,
  "nbformat_minor": 0,
  "metadata": {
    "colab": {
      "provenance": []
    },
    "kernelspec": {
      "name": "python3",
      "display_name": "Python 3"
    },
    "language_info": {
      "name": "python"
    }
  },
  "cells": [
    {
      "cell_type": "markdown",
      "source": [
        "Machine Learning Project - 4: **Loan Approval Prediction using Machine Leanring**"
      ],
      "metadata": {
        "id": "JZgFT9xGGRYm"
      }
    },
    {
      "cell_type": "markdown",
      "source": [
        "**Load the data to collab:**"
      ],
      "metadata": {
        "id": "2JrqAVCXGdwB"
      }
    },
    {
      "cell_type": "code",
      "execution_count": null,
      "metadata": {
        "colab": {
          "base_uri": "https://localhost:8080/"
        },
        "id": "neMugs3pGA9U",
        "outputId": "200d6bb1-bf77-4675-cefd-0bfa510caae7"
      },
      "outputs": [
        {
          "output_type": "stream",
          "name": "stdout",
          "text": [
            "   Applicant Income  LoanAmount  Credit_History Married Loan_Status\n",
            "0              2500          50               1     Yes    Approved\n",
            "1              4000         100               1      No    Approved\n",
            "2              3000          70               0     Yes    Rejected\n",
            "3              6000         200               1     Yes    Approved\n",
            "4              2000          60               0      No    Rejected\n"
          ]
        }
      ],
      "source": [
        "import pandas as pd\n",
        "\n",
        "df = pd.read_csv(\"loan_data.csv\")\n",
        "\n",
        "# Display first 5 rows:\n",
        "print(df.head())"
      ]
    },
    {
      "cell_type": "markdown",
      "source": [
        "**Data Preprocessing:**"
      ],
      "metadata": {
        "id": "9iXK_wKyHD2z"
      }
    },
    {
      "cell_type": "code",
      "source": [
        "# Convert Married and Loan Status into Numbers\n",
        "df[\"Married\"] = df[\"Married\"].map({\"Yes\": 1, \"No\": 0})\n",
        "df[\"Loan_Status\"] = df[\"Loan_Status\"].map({\"Approved\": 1, \"Rejected\": 0})\n",
        "\n",
        "\n",
        "# Display first 5 rows:\n",
        "print(df.head())"
      ],
      "metadata": {
        "colab": {
          "base_uri": "https://localhost:8080/"
        },
        "id": "tR27GT2IHHOM",
        "outputId": "79cb42e3-dfc6-44f2-83d1-da64b1f3c8aa"
      },
      "execution_count": null,
      "outputs": [
        {
          "output_type": "stream",
          "name": "stdout",
          "text": [
            "   Applicant Income  LoanAmount  Credit_History  Married  Loan_Status\n",
            "0              2500          50               1        1            1\n",
            "1              4000         100               1        0            1\n",
            "2              3000          70               0        1            0\n",
            "3              6000         200               1        1            1\n",
            "4              2000          60               0        0            0\n"
          ]
        }
      ]
    },
    {
      "cell_type": "markdown",
      "source": [
        "**Define Features & Target**"
      ],
      "metadata": {
        "id": "4-c34sIZLRWJ"
      }
    },
    {
      "cell_type": "code",
      "source": [
        "# Features\n",
        "x = df[[\"Applicant Income\", \"LoanAmount\", \"Credit_History\", \"Married\"]]\n",
        "\n",
        "# Target\n",
        "y = df[\"Loan_Status\"]\n",
        "\n"
      ],
      "metadata": {
        "id": "ZEOSWvoyLU0V"
      },
      "execution_count": null,
      "outputs": []
    },
    {
      "cell_type": "markdown",
      "source": [
        "**Split Data for Training & Testing:**"
      ],
      "metadata": {
        "id": "RxPnNhbyMdeU"
      }
    },
    {
      "cell_type": "code",
      "source": [
        "from sklearn.model_selection import train_test_split\n",
        "x_train, x_test, y_train, y_test = train_test_split(x, y, test_size = 0.2, random_state = 42)\n",
        "\n",
        "\n",
        "print(\"Training Data:\",x_train.shape, \"Testing Data:\", x_test.shape)"
      ],
      "metadata": {
        "colab": {
          "base_uri": "https://localhost:8080/"
        },
        "id": "TFIBQf-eMiF0",
        "outputId": "b1f7b861-02e0-4dff-a6d2-1aca23f3b4a3"
      },
      "execution_count": null,
      "outputs": [
        {
          "output_type": "stream",
          "name": "stdout",
          "text": [
            "Training Data: (4, 4) Testing Data: (1, 4)\n"
          ]
        }
      ]
    },
    {
      "cell_type": "markdown",
      "source": [
        "**Train the Classification Model**"
      ],
      "metadata": {
        "id": "-RqTnBrdV9h6"
      }
    },
    {
      "cell_type": "code",
      "source": [
        "from sklearn.linear_model import LogisticRegression\n",
        "model = LogisticRegression()\n",
        "model.fit(x_train, y_train)\n",
        "\n",
        "print(\"Model Training Completed!\")\n",
        "\n"
      ],
      "metadata": {
        "colab": {
          "base_uri": "https://localhost:8080/"
        },
        "id": "04BZMZncWHht",
        "outputId": "db137fca-a01f-4ab2-ebf2-beb2bc2c6a00"
      },
      "execution_count": 23,
      "outputs": [
        {
          "output_type": "stream",
          "name": "stdout",
          "text": [
            "Model Training Completed!\n"
          ]
        }
      ]
    },
    {
      "cell_type": "markdown",
      "source": [
        "**Make Prediction:**"
      ],
      "metadata": {
        "id": "fQL_IV8kWgLK"
      }
    },
    {
      "cell_type": "code",
      "source": [
        "y_pred = model.predict(x_test)\n",
        "\n",
        "\n",
        "# Comparing Actual vs Predicted\n",
        "results = pd.DataFrame({\"Actual\": y_test, \"Predicted\": y_pred})\n",
        "print(results)"
      ],
      "metadata": {
        "colab": {
          "base_uri": "https://localhost:8080/"
        },
        "id": "vHhms_D4WkvX",
        "outputId": "7d6d7962-205d-4686-82c8-c8df31df835f"
      },
      "execution_count": 24,
      "outputs": [
        {
          "output_type": "stream",
          "name": "stdout",
          "text": [
            "   Actual  Predicted\n",
            "1       1          1\n"
          ]
        }
      ]
    },
    {
      "cell_type": "markdown",
      "source": [
        "**Evaluate Model Performance:**"
      ],
      "metadata": {
        "id": "u246QiF4W9q5"
      }
    },
    {
      "cell_type": "code",
      "source": [
        "from sklearn.metrics import accuracy_score, pair_confusion_matrix\n",
        "\n",
        "accuracy_score = accuracy_score(y_test, y_pred)\n",
        "confusion_matrix = pair_confusion_matrix(y_test, y_pred)\n",
        "\n",
        "print(\"Accuracy Score:\", accuracy_score*100,\"%\")\n",
        "print(\"Confusion Matrix:\")\n",
        "print(confusion_matrix)"
      ],
      "metadata": {
        "colab": {
          "base_uri": "https://localhost:8080/"
        },
        "id": "9MTxg6HTXGNq",
        "outputId": "9802a4f0-342f-4b07-cb57-ad543f8738c9"
      },
      "execution_count": 27,
      "outputs": [
        {
          "output_type": "stream",
          "name": "stdout",
          "text": [
            "Accuracy Score: 100.0 %\n",
            "Confusion Matrix:\n",
            "[[0 0]\n",
            " [0 0]]\n"
          ]
        }
      ]
    },
    {
      "cell_type": "markdown",
      "source": [
        "**Predict Loan Approval for New Applicant:**"
      ],
      "metadata": {
        "id": "STYoZXyhYTE4"
      }
    },
    {
      "cell_type": "code",
      "source": [
        "new_applicant = [[5000,150,1,1]]\n",
        "prediction = model.predict(new_applicant)\n",
        "\n",
        "\n",
        "if prediction[0] == 1:\n",
        "  print(\"Loan Approved\")\n",
        "else:\n",
        "  print(\"Loan Rejected\")"
      ],
      "metadata": {
        "colab": {
          "base_uri": "https://localhost:8080/"
        },
        "id": "K4fNRYTpYZK7",
        "outputId": "3683581b-3f93-4f58-be76-8e1f29702eb3"
      },
      "execution_count": 28,
      "outputs": [
        {
          "output_type": "stream",
          "name": "stdout",
          "text": [
            "Loan Approved\n"
          ]
        },
        {
          "output_type": "stream",
          "name": "stderr",
          "text": [
            "/usr/local/lib/python3.11/dist-packages/sklearn/utils/validation.py:2739: UserWarning: X does not have valid feature names, but LogisticRegression was fitted with feature names\n",
            "  warnings.warn(\n"
          ]
        }
      ]
    }
  ]
}