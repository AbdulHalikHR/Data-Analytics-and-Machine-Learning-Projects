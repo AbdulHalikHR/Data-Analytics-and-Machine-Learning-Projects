{
  "nbformat": 4,
  "nbformat_minor": 0,
  "metadata": {
    "colab": {
      "provenance": []
    },
    "kernelspec": {
      "name": "python3",
      "display_name": "Python 3"
    },
    "language_info": {
      "name": "python"
    }
  },
  "cells": [
    {
      "cell_type": "markdown",
      "source": [
        "Machine Learning Project - 8: **Movie Recommendation System using Cosine Similarity**"
      ],
      "metadata": {
        "id": "UX44WLSavwJa"
      }
    },
    {
      "cell_type": "markdown",
      "source": [
        "**Load Data into Collab:**"
      ],
      "metadata": {
        "id": "Qk36niADwKsz"
      }
    },
    {
      "cell_type": "code",
      "execution_count": 1,
      "metadata": {
        "colab": {
          "base_uri": "https://localhost:8080/"
        },
        "id": "yrSxYZsdvpHU",
        "outputId": "a0b8d207-16c6-4353-e06a-6ccf057bd0b4"
      },
      "outputs": [
        {
          "output_type": "stream",
          "name": "stdout",
          "text": [
            "   Movie_ID      Title             Genre  \\\n",
            "0         1  Inception  Sci-Fi, Thriller   \n",
            "1         2     Avatar    Sci-Fi, Action   \n",
            "2         3    Titanic    Drama, Romance   \n",
            "\n",
            "                                        Overview             Keywords  \n",
            "0     A thief who enters the dreams of others...  dream, subconscious  \n",
            "1                 A marine on an alien planet...        alien, future  \n",
            "2  A love story on the ill-fated Titanic ship...      love, shipwreck  \n"
          ]
        }
      ],
      "source": [
        "import pandas as pd\n",
        "\n",
        "df = pd.read_csv(\"movies.csv\")\n",
        "\n",
        "print(df.head())"
      ]
    },
    {
      "cell_type": "markdown",
      "source": [
        "**Handling Missing Data:**"
      ],
      "metadata": {
        "id": "2VjxJEC3wz9U"
      }
    },
    {
      "cell_type": "code",
      "source": [
        "# Fill overviews with empty string\n",
        "\n",
        "df[\"Overview\"].fillna(\"\",inplace = True)\n",
        "print(df.isnull().sum())                # Check if any missing values remain"
      ],
      "metadata": {
        "colab": {
          "base_uri": "https://localhost:8080/"
        },
        "id": "49Fht5vuxstF",
        "outputId": "80ed324d-77ee-4984-ab5f-59f3213b8b01"
      },
      "execution_count": 3,
      "outputs": [
        {
          "output_type": "stream",
          "name": "stdout",
          "text": [
            "Movie_ID    0\n",
            "Title       0\n",
            "Genre       0\n",
            "Overview    0\n",
            "Keywords    0\n",
            "dtype: int64\n"
          ]
        },
        {
          "output_type": "stream",
          "name": "stderr",
          "text": [
            "<ipython-input-3-66cb7b3943c3>:3: FutureWarning: A value is trying to be set on a copy of a DataFrame or Series through chained assignment using an inplace method.\n",
            "The behavior will change in pandas 3.0. This inplace method will never work because the intermediate object on which we are setting values always behaves as a copy.\n",
            "\n",
            "For example, when doing 'df[col].method(value, inplace=True)', try using 'df.method({col: value}, inplace=True)' or df[col] = df[col].method(value) instead, to perform the operation inplace on the original object.\n",
            "\n",
            "\n",
            "  df[\"Overview\"].fillna(\"\",inplace = True)\n"
          ]
        }
      ]
    },
    {
      "cell_type": "markdown",
      "source": [
        "**Convert Text to Numerical Features (TF-IDF Vectorization):**"
      ],
      "metadata": {
        "id": "46lKH_q_x1NN"
      }
    },
    {
      "cell_type": "code",
      "source": [
        "from sklearn.feature_extraction.text import TfidfVectorizer\n",
        "\n",
        "# Convert movie overviews to Tf-IDF features\n",
        "vectorizer = TfidfVectorizer(stop_words = \"english\")\n",
        "tfidf_matrix = vectorizer.fit_transform(df[\"Overview\"])\n",
        "\n",
        "print(tfidf_matrix.shape)                               # Number of movies x Number of unique words"
      ],
      "metadata": {
        "colab": {
          "base_uri": "https://localhost:8080/"
        },
        "id": "u7p6RC7eyVnf",
        "outputId": "c166aca5-a942-43a9-c65d-df17d1a795c7"
      },
      "execution_count": 5,
      "outputs": [
        {
          "output_type": "stream",
          "name": "stdout",
          "text": [
            "(3, 12)\n"
          ]
        }
      ]
    },
    {
      "cell_type": "markdown",
      "source": [
        "**Compute Cosine Similarity:**"
      ],
      "metadata": {
        "id": "T9-g2IWDzJ6J"
      }
    },
    {
      "cell_type": "code",
      "source": [
        "from sklearn.metrics.pairwise import cosine_similarity\n",
        "\n",
        "# Compute similarity between all movies\n",
        "cosine_sim = cosine_similarity(tfidf_matrix, tfidf_matrix)\n",
        "\n",
        "print(cosine_sim.shape)                                     # Should be (number of movies, number of movies)"
      ],
      "metadata": {
        "colab": {
          "base_uri": "https://localhost:8080/"
        },
        "id": "o2A9XbyWzOxe",
        "outputId": "2cc54cf1-9c58-4921-adfa-695a605c9a59"
      },
      "execution_count": 6,
      "outputs": [
        {
          "output_type": "stream",
          "name": "stdout",
          "text": [
            "(3, 3)\n"
          ]
        }
      ]
    },
    {
      "cell_type": "markdown",
      "source": [
        "**Build Recommendation Function:**"
      ],
      "metadata": {
        "id": "_fIiVyRw0DEy"
      }
    },
    {
      "cell_type": "code",
      "source": [
        "# Create a mapping of movie title to index\n",
        "movie_index = pd.Series(df.index, index = df[\"Title\"]).drop_duplicates()\n",
        "\n",
        "def recommend_movies(movie_title, num_recommendations = 5):\n",
        "  if movie_title not in movie_index:\n",
        "    return \"Movie not found in dataset!\"\n",
        "\n",
        "  idx = movie_index[movie_title]\n",
        "\n",
        "  # Get similarity score for all movies with the given movie\n",
        "  sim_scores = list(enumerate(cosine_sim[idx]))\n",
        "\n",
        "  # Sort movies based on similarity score\n",
        "  sim_scores = sorted(sim_scores, key=lambda x: x[1], reverse=True)\n",
        "\n",
        "  # Get top N similar movies (excluding itself)\n",
        "  sim_scores = sim_scores[1:num_recommendations+1]\n",
        "\n",
        "  # Get movie indices\n",
        "  movie_indices = [i[0] for i in sim_scores]\n",
        "\n",
        "  return df[\"Title\"].iloc[movie_indices]\n",
        "\n",
        "# Test the function\n",
        "print(recommend_movies(\"Inception\"))"
      ],
      "metadata": {
        "colab": {
          "base_uri": "https://localhost:8080/"
        },
        "id": "BvA-_ne_0IIQ",
        "outputId": "6e4ff2fd-8d40-444e-9d75-a4173d805d1e"
      },
      "execution_count": 8,
      "outputs": [
        {
          "output_type": "stream",
          "name": "stdout",
          "text": [
            "1     Avatar\n",
            "2    Titanic\n",
            "Name: Title, dtype: object\n"
          ]
        }
      ]
    },
    {
      "cell_type": "markdown",
      "source": [
        "**Try your Own Movie:**"
      ],
      "metadata": {
        "id": "laCcHpFJ2l09"
      }
    },
    {
      "cell_type": "code",
      "source": [
        "print(recommend_movies(\"The Dark Knight Rises\"))\n",
        "print(recommend_movies(\"Avatar\"))"
      ],
      "metadata": {
        "colab": {
          "base_uri": "https://localhost:8080/"
        },
        "id": "ZUeEXsTG2s1G",
        "outputId": "7b920253-f1c6-4a01-9727-2bb7473092d7"
      },
      "execution_count": 13,
      "outputs": [
        {
          "output_type": "stream",
          "name": "stdout",
          "text": [
            "Movie not found in dataset!\n",
            "0    Inception\n",
            "2      Titanic\n",
            "Name: Title, dtype: object\n"
          ]
        }
      ]
    }
  ]
}