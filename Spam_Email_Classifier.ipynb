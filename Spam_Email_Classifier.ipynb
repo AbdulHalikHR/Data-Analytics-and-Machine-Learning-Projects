{
  "nbformat": 4,
  "nbformat_minor": 0,
  "metadata": {
    "colab": {
      "provenance": []
    },
    "kernelspec": {
      "name": "python3",
      "display_name": "Python 3"
    },
    "language_info": {
      "name": "python"
    }
  },
  "cells": [
    {
      "cell_type": "markdown",
      "source": [
        "Machine Learning Project - 5: **Spam Email Detection using NLP**"
      ],
      "metadata": {
        "id": "kdkaxsjIZ0fk"
      }
    },
    {
      "cell_type": "markdown",
      "source": [
        "**Load Data into Collab:**"
      ],
      "metadata": {
        "id": "tfWxkn2rahzg"
      }
    },
    {
      "cell_type": "code",
      "execution_count": 17,
      "metadata": {
        "colab": {
          "base_uri": "https://localhost:8080/"
        },
        "id": "a8-WNGH0Zudl",
        "outputId": "88c60941-e358-4144-d0ce-dc49c364a6ad"
      },
      "outputs": [
        {
          "output_type": "stream",
          "name": "stdout",
          "text": [
            "                                     Email Text  Label\n",
            "0      \"Congratulation! You have won a lottery\"      1\n",
            "1             \"Meeting scheduled at 4 PM today\"      0\n",
            "2  \"Earn money from home. Click this link now.\"      1\n",
            "3           \"Submit your project before Friday\"      0\n",
            "4    \"Exclusive deal! Buy now and get 50% off!\"      1\n"
          ]
        }
      ],
      "source": [
        "import pandas as pd\n",
        "\n",
        "# Load dataset\n",
        "df = pd.read_csv(\"spam_data.csv\")\n",
        "\n",
        "# Convert labels to numerical values\n",
        "df[\"Label\"] = df[\"Label\"].map({\"Spam\": 1, \"Not Spam\": 0})\n",
        "\n",
        "print(df.head())  # Check data\n"
      ]
    },
    {
      "cell_type": "markdown",
      "source": [
        "**Text Preprocessing:**"
      ],
      "metadata": {
        "id": "WitP9bepgKtA"
      }
    },
    {
      "cell_type": "code",
      "source": [
        "import re\n",
        "import nltk\n",
        "from nltk.corpus import stopwords\n",
        "from nltk.tokenize import word_tokenize\n",
        "\n",
        "# Download the necessary NLTK data packages\n",
        "nltk.download(\"stopwords\")\n",
        "nltk.download(\"punkt\")\n",
        "nltk.download('punkt_tab') # Download the missing 'punkt_tab' data package\n",
        "\n",
        "# Function to clean text\n",
        "def preprocess_text(text):\n",
        "    text = text.lower()  # Convert to lowercase\n",
        "    text = re.sub(r'\\W', ' ', text)  # Remove special characters\n",
        "    words = word_tokenize(text)  # Tokenization\n",
        "    words = [word for word in words if word not in stopwords.words('english')]  # Remove stopwords\n",
        "    return \" \".join(words)\n",
        "\n",
        "# Apply cleaning function to dataset\n",
        "df[\"Processed_Text\"] = df[\"Email Text\"].apply(preprocess_text)\n",
        "\n",
        "print(df.head())  # Check processed text"
      ],
      "metadata": {
        "id": "iTnd9ksdgIHf"
      },
      "execution_count": null,
      "outputs": []
    },
    {
      "cell_type": "markdown",
      "source": [
        "**Convert Text to Numerical Data:**"
      ],
      "metadata": {
        "id": "MkJDOXEu0P_E"
      }
    },
    {
      "cell_type": "code",
      "source": [
        "from sklearn.feature_extraction.text import TfidfVectorizer\n",
        "\n",
        "vectorizer = TfidfVectorizer()\n",
        "X = vectorizer.fit_transform(df[\"Processed_Text\"])  # Convert text to numerical form\n",
        "y = df[\"Label\"]  # Target variable (Spam = 1, Not Spam = 0)\n"
      ],
      "metadata": {
        "id": "lIFsjKhI0PeH"
      },
      "execution_count": 20,
      "outputs": []
    },
    {
      "cell_type": "markdown",
      "source": [
        "**Split Data for Training & Testing:**\n"
      ],
      "metadata": {
        "id": "omO0InM20oT7"
      }
    },
    {
      "cell_type": "code",
      "source": [
        "from sklearn.model_selection import train_test_split\n",
        "\n",
        "X_train, X_test, y_train, y_test = train_test_split(X, y, test_size=0.2, random_state=42)\n",
        "\n",
        "print(f\"Training Data: {X_train.shape}, Testing Data: {X_test.shape}\")\n"
      ],
      "metadata": {
        "colab": {
          "base_uri": "https://localhost:8080/"
        },
        "id": "d1nS0nCn03yX",
        "outputId": "2e1e2542-e27e-4bd8-cc47-e31516cf555d"
      },
      "execution_count": 21,
      "outputs": [
        {
          "output_type": "stream",
          "name": "stdout",
          "text": [
            "Training Data: (4, 19), Testing Data: (1, 19)\n"
          ]
        }
      ]
    },
    {
      "cell_type": "markdown",
      "source": [
        "**Train the Spam Classifier Model**"
      ],
      "metadata": {
        "id": "gOTOWyGa1FuX"
      }
    },
    {
      "cell_type": "code",
      "source": [
        "from sklearn.naive_bayes import MultinomialNB\n",
        "\n",
        "# Create and train the model\n",
        "model = MultinomialNB()\n",
        "model.fit(X_train, y_train)\n",
        "\n",
        "print(\"Model training completed!\")\n"
      ],
      "metadata": {
        "colab": {
          "base_uri": "https://localhost:8080/"
        },
        "id": "zJUPe_Ds1LbQ",
        "outputId": "83ad90ea-0b22-457c-e24c-b30b91a783fe"
      },
      "execution_count": 22,
      "outputs": [
        {
          "output_type": "stream",
          "name": "stdout",
          "text": [
            "Model training completed!\n"
          ]
        }
      ]
    },
    {
      "cell_type": "markdown",
      "source": [
        "**Make Predictions**"
      ],
      "metadata": {
        "id": "GBI8BO6b1QSv"
      }
    },
    {
      "cell_type": "code",
      "source": [
        "y_pred = model.predict(X_test)\n",
        "\n",
        "# Compare actual vs predicted\n",
        "results = pd.DataFrame({\"Actual\": y_test, \"Predicted\": y_pred})\n",
        "print(results)\n"
      ],
      "metadata": {
        "colab": {
          "base_uri": "https://localhost:8080/"
        },
        "id": "K1J4cQZG1ZQo",
        "outputId": "3a50aa2b-ce37-4bed-84b1-49a444df4db3"
      },
      "execution_count": 23,
      "outputs": [
        {
          "output_type": "stream",
          "name": "stdout",
          "text": [
            "   Actual  Predicted\n",
            "1       0          1\n"
          ]
        }
      ]
    },
    {
      "cell_type": "markdown",
      "source": [
        "**Evaluate Model Performance**"
      ],
      "metadata": {
        "id": "nj0GZ1dG1dVj"
      }
    },
    {
      "cell_type": "code",
      "source": [
        "from sklearn.metrics import accuracy_score, confusion_matrix\n",
        "\n",
        "accuracy = accuracy_score(y_test, y_pred)\n",
        "cm = confusion_matrix(y_test, y_pred)\n",
        "\n",
        "print(f\"Model Accuracy: {accuracy * 100:.2f}%\")\n",
        "print(\"Confusion Matrix:\")\n",
        "print(cm)\n"
      ],
      "metadata": {
        "colab": {
          "base_uri": "https://localhost:8080/"
        },
        "id": "MtkUHXj51kce",
        "outputId": "17cfc130-8e52-4850-aee1-c85f08bc779f"
      },
      "execution_count": 24,
      "outputs": [
        {
          "output_type": "stream",
          "name": "stdout",
          "text": [
            "Model Accuracy: 0.00%\n",
            "Confusion Matrix:\n",
            "[[0 1]\n",
            " [0 0]]\n"
          ]
        }
      ]
    },
    {
      "cell_type": "markdown",
      "source": [
        " **Predict if a New Email is Spam or Not**"
      ],
      "metadata": {
        "id": "WKiPGvHE1pJi"
      }
    },
    {
      "cell_type": "code",
      "source": [
        "new_email = [\"Win a free iPhone now! Click this link.\"]\n",
        "\n",
        "# Convert email to numerical data\n",
        "new_email_vectorized = vectorizer.transform(new_email)\n",
        "\n",
        "# Predict spam or not\n",
        "prediction = model.predict(new_email_vectorized)\n",
        "\n",
        "if prediction[0] == 1:\n",
        "    print(\"Spam Email 🚨\")\n",
        "else:\n",
        "    print(\"Not Spam ✅\")\n"
      ],
      "metadata": {
        "colab": {
          "base_uri": "https://localhost:8080/"
        },
        "id": "BWB9YolH1u8n",
        "outputId": "94153eae-6ed3-4ed6-8922-19ab8800ffa4"
      },
      "execution_count": 25,
      "outputs": [
        {
          "output_type": "stream",
          "name": "stdout",
          "text": [
            "Spam Email 🚨\n"
          ]
        }
      ]
    }
  ]
}